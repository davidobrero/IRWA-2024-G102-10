{
  "cells": [
    {
      "cell_type": "markdown",
      "metadata": {
        "id": "vvXfbH-9LIsj"
      },
      "source": [
        "# **Part 3: Ranking**"
      ]
    },
    {
      "cell_type": "markdown",
      "metadata": {
        "id": "C0BO7vhi6vru"
      },
      "source": [
        "## 0. Preparation, Text Processing and Indexing"
      ]
    },
    {
      "cell_type": "markdown",
      "metadata": {
        "id": "-4whUWex6vrv"
      },
      "source": [
        "0.1 *Import libraries*"
      ]
    },
    {
      "cell_type": "code",
      "execution_count": null,
      "metadata": {
        "colab": {
          "base_uri": "https://localhost:8080/"
        },
        "outputId": "7d15f930-4d17-404c-8d0c-ed23e248a08a",
        "id": "W32qThOO6vrw"
      },
      "outputs": [
        {
          "output_type": "stream",
          "name": "stdout",
          "text": [
            "Requirement already satisfied: nltk in /usr/local/lib/python3.10/dist-packages (3.9.1)\n",
            "Requirement already satisfied: click in /usr/local/lib/python3.10/dist-packages (from nltk) (8.1.7)\n",
            "Requirement already satisfied: joblib in /usr/local/lib/python3.10/dist-packages (from nltk) (1.4.2)\n",
            "Requirement already satisfied: regex>=2021.8.3 in /usr/local/lib/python3.10/dist-packages (from nltk) (2024.9.11)\n",
            "Requirement already satisfied: tqdm in /usr/local/lib/python3.10/dist-packages (from nltk) (4.66.6)\n"
          ]
        },
        {
          "output_type": "stream",
          "name": "stderr",
          "text": [
            "[nltk_data] Downloading package stopwords to /root/nltk_data...\n",
            "[nltk_data]   Unzipping corpora/stopwords.zip.\n"
          ]
        }
      ],
      "source": [
        "!pip install --upgrade nltk\n",
        "import nltk\n",
        "from nltk.stem import PorterStemmer\n",
        "from nltk.corpus import stopwords\n",
        "nltk.download('stopwords')\n",
        "import collections\n",
        "from collections import defaultdict\n",
        "from array import array\n",
        "import math\n",
        "import numpy as np\n",
        "from numpy import linalg as la\n",
        "import string\n",
        "import json\n",
        "import pandas as pd\n",
        "import matplotlib.pyplot as plt\n",
        "from wordcloud import WordCloud\n",
        "import spacy\n",
        "from textblob import TextBlob\n",
        "from gensim.models import Word2Vec\n",
        "from sklearn.manifold import TSNE\n",
        "from sklearn.decomposition import PCA"
      ]
    },
    {
      "cell_type": "markdown",
      "metadata": {
        "id": "HwiA2zga6vrx"
      },
      "source": [
        "0.2 *Connect to Google Drive*"
      ]
    },
    {
      "cell_type": "code",
      "execution_count": null,
      "metadata": {
        "colab": {
          "base_uri": "https://localhost:8080/"
        },
        "outputId": "a0e8566a-f864-43fc-b37c-b11eefc7ebb4",
        "id": "6s7_iiJt6vry"
      },
      "outputs": [
        {
          "output_type": "stream",
          "name": "stdout",
          "text": [
            "Mounted at /content/drive\n"
          ]
        }
      ],
      "source": [
        "from google.colab import drive\n",
        "drive.mount('/content/drive')\n",
        "docs_path = '/content/drive/Shareddrives/IRWA Labs/PROJECT/IRWA - PROJECT DATA/farmers-protest-tweets.json' # modify path where are the documents"
      ]
    },
    {
      "cell_type": "markdown",
      "metadata": {
        "id": "EWXP1qjL6vry"
      },
      "source": [
        "0.3 *Read and preprocess tweets lines*"
      ]
    },
    {
      "cell_type": "code",
      "execution_count": null,
      "metadata": {
        "id": "0GFb4BbW6vrz"
      },
      "outputs": [],
      "source": [
        "with open(docs_path) as fp:\n",
        "    lines = fp.readlines()\n",
        "lines = [l.strip().replace(' +', ' ') for l in lines]"
      ]
    },
    {
      "cell_type": "markdown",
      "metadata": {
        "id": "NuxA2IJC6vrz"
      },
      "source": [
        "0.4 *Load and map tweets with IDs*"
      ]
    },
    {
      "cell_type": "code",
      "execution_count": null,
      "metadata": {
        "id": "jj1M0Qvo6vrz"
      },
      "outputs": [],
      "source": [
        "excel_data = pd.read_csv('/content/drive/Shareddrives/IRWA Labs/PROJECT/IRWA - PROJECT DATA/tweet_document_ids_map.csv') # change path if necessary\n",
        "tweet_id_to_doc_id = dict(zip(excel_data['id'], excel_data['docId']))"
      ]
    },
    {
      "cell_type": "markdown",
      "metadata": {
        "id": "vHbG-mPW6vrz"
      },
      "source": [
        "0.5 *Processing tweets (clean and normalize the content)*"
      ]
    },
    {
      "cell_type": "code",
      "execution_count": null,
      "metadata": {
        "id": "z9cxXS7q6vr0"
      },
      "outputs": [],
      "source": [
        "def build_terms(line):\n",
        "    stemmer = PorterStemmer()\n",
        "    stop_words = set(stopwords.words(\"english\"))\n",
        "\n",
        "    try:\n",
        "        tweet_data = json.loads(line)\n",
        "    except json.JSONDecodeError:\n",
        "        print(f\"Error: {line}\")\n",
        "        return None\n",
        "\n",
        "    if tweet_data.get(\"lang\") != \"en\": # only filter English tweets\n",
        "        return None\n",
        "\n",
        "    #Relevant information\n",
        "    tweet_content = tweet_data.get(\"content\", \"\")\n",
        "    tweet_date = tweet_data.get(\"date\", \"\")\n",
        "    tweet_likes = tweet_data.get(\"likeCount\", 0)\n",
        "    tweet_retweets = tweet_data.get(\"retweetCount\", 0)\n",
        "    tweet_url = tweet_data.get(\"url\", \"\")\n",
        "    id = tweet_data.get(\"id\", \"\")\n",
        "    doc_id = tweet_id_to_doc_id.get(int(id))\n",
        "\n",
        "    #Lowercase\n",
        "    line = tweet_content.lower()\n",
        "\n",
        "    #Tokenize\n",
        "    line = line.split()\n",
        "\n",
        "    #Punctuation signs\n",
        "    line = [x.translate(str.maketrans('', '', string.punctuation)) for x in line]\n",
        "\n",
        "    #Eliminate #\n",
        "    hashtags = [word for word in tweet_content.split() if word.startswith('#')]\n",
        "\n",
        "    #Stopwords\n",
        "    line = [x for x in line if x not in stop_words and x]\n",
        "\n",
        "    #Steaming\n",
        "    line = [stemmer.stem(x) for x in line]\n",
        "\n",
        "    #Return relevant information\n",
        "    return {\n",
        "        \"tweet\": line,\n",
        "        \"date\": tweet_date,\n",
        "        \"hashtags\": hashtags,\n",
        "        \"likes\": tweet_likes,\n",
        "        \"retweets\": tweet_retweets,\n",
        "        \"url\": tweet_url,\n",
        "        \"id\": id,\n",
        "        \"doc_id\": doc_id\n",
        "    }"
      ]
    },
    {
      "cell_type": "markdown",
      "metadata": {
        "id": "6FF4jfjj6vr2"
      },
      "source": [
        "0.6 *Apply text processing to all tweets and count the words in each tweet*"
      ]
    },
    {
      "cell_type": "code",
      "execution_count": null,
      "metadata": {
        "id": "q3SyPUO46vr2"
      },
      "outputs": [],
      "source": [
        "processed_tweets = []\n",
        "total_words = []\n",
        "for line in lines:\n",
        "    processed_tweet = build_terms(line)\n",
        "    if processed_tweet:\n",
        "        processed_tweets.append(processed_tweet)\n",
        "        total_words.append(len(processed_tweet['tweet']))"
      ]
    },
    {
      "cell_type": "code",
      "execution_count": null,
      "metadata": {
        "id": "oOKtEOPx6vr3",
        "colab": {
          "base_uri": "https://localhost:8080/"
        },
        "outputId": "00f55de3-1299-4500-a4aa-7a223bb93a9d"
      },
      "outputs": [
        {
          "output_type": "stream",
          "name": "stdout",
          "text": [
            "{'tweet': ['world', 'progress', 'indian', 'polic', 'govt', 'still', 'tri', 'take', 'india', 'back', 'horrif', 'past', 'tyranni', 'narendramodi', 'delhipolic', 'shame', 'modidontsellfarm', 'farmersprotest', 'freenodeepkaur', 'httpstcoes3kn0iqaf'], 'date': '2021-02-24T09:23:35+00:00', 'hashtags': ['#ModiDontSellFarmers', '#FarmersProtest', '#FreeNodeepKaur'], 'likes': 0, 'retweets': 0, 'url': 'https://twitter.com/ArjunSinghPanam/status/1364506249291784198', 'id': 1364506249291784198, 'doc_id': 'doc_0'}\n",
            "Total number of processed tweets: 48429\n"
          ]
        }
      ],
      "source": [
        "n_tweets = len(processed_tweets)\n",
        "print(processed_tweets[0])\n",
        "print(f\"Total number of processed tweets: {n_tweets}\")"
      ]
    },
    {
      "cell_type": "markdown",
      "metadata": {
        "id": "menUdigi6vr4"
      },
      "source": [
        "0.7 *Create inverted index with TF-IDF (code fomr previous part of the project)*"
      ]
    },
    {
      "cell_type": "code",
      "execution_count": null,
      "metadata": {
        "id": "AthMtKWH6vr5"
      },
      "outputs": [],
      "source": [
        "# Build the inverted index and calculate TF-IDF\n",
        "inverted_index = defaultdict(set)\n",
        "tfidf_scores = defaultdict(lambda: defaultdict(float))\n",
        "tweet_lengths = defaultdict(int)\n",
        "total_tweets = len(processed_tweets)\n",
        "\n",
        "# Construct the inverted index and calculate TF-IDF\n",
        "for tweet in processed_tweets:\n",
        "    tweet_id = tweet[\"doc_id\"]\n",
        "    term_count = defaultdict(int)\n",
        "\n",
        "    # Count term frequencies in the tweet\n",
        "    for term in tweet[\"tweet\"]:\n",
        "        term_count[term] += 1\n",
        "        inverted_index[term].add(tweet_id)\n",
        "\n",
        "    # Calculate TF-IDF scores for each term in the tweet\n",
        "    for term, count in term_count.items():\n",
        "        # Term Frequency (TF)\n",
        "        tf = count / len(tweet[\"tweet\"])\n",
        "\n",
        "        # Document Frequency (DF) for the term across tweets\n",
        "        tweet_frequency = len(inverted_index[term])\n",
        "\n",
        "        # Inverse Document Frequency (IDF)\n",
        "        idf = math.log(total_tweets / (1 + tweet_frequency))\n",
        "\n",
        "        # Calculate and store TF-IDF score for each term in the tweet\n",
        "        tfidf_scores[tweet_id][term] = tf * idf\n",
        "\n",
        "        # Update tweet length for normalization (sum of squared tf-idf scores)\n",
        "        tweet_lengths[tweet_id] += (tf * idf) ** 2\n",
        "\n",
        "# Finalize tweet lengths by taking the square root of summed squares (for normalization)\n",
        "for tweet_id in tweet_lengths:\n",
        "    tweet_lengths[tweet_id] = math.sqrt(tweet_lengths[tweet_id])\n",
        "\n",
        "# Convert sets to lists and sort them for consistency\n",
        "for term in inverted_index:\n",
        "    inverted_index[term] = sorted(list(inverted_index[term]))"
      ]
    },
    {
      "cell_type": "markdown",
      "metadata": {
        "id": "myAr-exF6vr5"
      },
      "source": [
        "0.8 *Our 5 Queries*"
      ]
    },
    {
      "cell_type": "code",
      "execution_count": null,
      "metadata": {
        "id": "ez7S8CzI6vr6"
      },
      "outputs": [],
      "source": [
        "# Define the five queries\n",
        "queries = [\n",
        "    [\"indian\", \"protest\"],\n",
        "    [\"support\", \"farmersprotest\"],\n",
        "    [\"people\", \"right\"],\n",
        "    [\"free\", \"speech\"],\n",
        "    [\"climat\", \"activist\"]\n",
        "]"
      ]
    },
    {
      "cell_type": "markdown",
      "source": [
        "## 1. Different ways of ranking"
      ],
      "metadata": {
        "id": "1X3Ordip8aRe"
      }
    },
    {
      "cell_type": "markdown",
      "source": [
        "1.1 *TF-IDF + Cosine Similarity (code from previous part)*"
      ],
      "metadata": {
        "id": "4PkWMOfE8fyR"
      }
    },
    {
      "cell_type": "code",
      "source": [
        "# Function to rank tweets based on TF-IDF and cosine similarity\n",
        "def rank_tweets_tfidf(terms, tweet_ids, index, tfidf_scores, tweet_lengths):\n",
        "    tweet_vectors = defaultdict(lambda: [0] * len(terms))\n",
        "    query_vector = [0] * len(terms)\n",
        "\n",
        "    # Calculate the norm for the query\n",
        "    query_terms_count = collections.Counter(terms)\n",
        "    query_norm = np.linalg.norm(list(query_terms_count.values()))\n",
        "\n",
        "    for term_idx, term in enumerate(terms):\n",
        "        if term in index:\n",
        "            query_vector[term_idx] = (query_terms_count[term] / query_norm) * (math.log(total_tweets / (1 + len(index[term]))))\n",
        "\n",
        "            # Generate tweet vectors for each matching tweet\n",
        "            for tweet_id in index[term]:\n",
        "                if tweet_id in tweet_ids:\n",
        "                    tweet_vectors[tweet_id][term_idx] = tfidf_scores[tweet_id][term]\n",
        "\n",
        "    # Calculate scores using cosine similarity\n",
        "    tweet_scores = [[np.dot(tweet_vec, query_vector) / (tweet_lengths[tweet_id] * query_norm), tweet_id]\n",
        "                    for tweet_id, tweet_vec in tweet_vectors.items()]\n",
        "\n",
        "    tweet_scores.sort(reverse=True, key=lambda x: x[0])\n",
        "    return [x[1] for x in tweet_scores if x[0] > 0]\n",
        "\n",
        "# Perform search and ranking for each query based on TF-IDF and Cosine Similarity\n",
        "for query_terms in queries:\n",
        "    matched_tweets = set()\n",
        "    for term in query_terms:\n",
        "        if term in inverted_index:\n",
        "            matched_tweets.update(inverted_index[term])\n",
        "    ranked_tweet_ids = rank_tweets_tfidf(query_terms, matched_tweets, inverted_index, tfidf_scores, tweet_lengths)\n",
        "\n",
        "    # Display top results with scores\n",
        "    top_n = 5\n",
        "    print(f\"\\nTop {top_n} ranked tweets for query {' '.join(query_terms)}:\")\n",
        "    for tweet_id in ranked_tweet_ids[:top_n]:\n",
        "        tweet_data = next((tweet for tweet in processed_tweets if tweet[\"doc_id\"] == tweet_id), None)\n",
        "        if tweet_data:\n",
        "            tweet_text = ' '.join(tweet_data[\"tweet\"])\n",
        "            print(f\"Tweet ID: {tweet_id} - Tweet Text: {tweet_text}\")"
      ],
      "metadata": {
        "colab": {
          "base_uri": "https://localhost:8080/"
        },
        "id": "f9uELewA8cE1",
        "outputId": "b6c3e2c0-71bb-43ef-80ce-2bd370a29565"
      },
      "execution_count": null,
      "outputs": [
        {
          "output_type": "stream",
          "name": "stdout",
          "text": [
            "\n",
            "Top 5 ranked tweets for query indian protest:\n",
            "Tweet ID: doc_19653 - Tweet Text: punyaab farmer indian n everi person protest indian first think tweet protest farmersprotest\n",
            "Tweet ID: doc_9676 - Tweet Text: indian farmer protest farmersprotest httpstco9mzfbgqaxl\n",
            "Tweet ID: doc_2022 - Tweet Text: support indian farmer farmersprotest\n",
            "Tweet ID: doc_34729 - Tweet Text: indian farmer protest matter british indian farmersprotest httpstcokycwndvyem\n",
            "Tweet ID: doc_884 - Tweet Text: farmersprotest farmlaw farmlaws2020 farmer indian farmer protest httpstcokpk7turg6\n",
            "\n",
            "Top 5 ranked tweets for query support farmersprotest:\n",
            "Tweet ID: doc_43898 - Tweet Text: support farmersprotest\n",
            "Tweet ID: doc_39708 - Tweet Text: support farmersprotest\n",
            "Tweet ID: doc_36108 - Tweet Text: support farmersprotest\n",
            "Tweet ID: doc_30903 - Tweet Text: support farmersprotest\n",
            "Tweet ID: doc_26647 - Tweet Text: support farmersprotest\n",
            "\n",
            "Top 5 ranked tweets for query people right:\n",
            "Tweet ID: doc_5988 - Tweet Text: right farmersprotest\n",
            "Tweet ID: doc_41774 - Tweet Text: right inform right life farmersprotest\n",
            "Tweet ID: doc_72 - Tweet Text: govt job make right way right mindset clear vision help financ friend keep right pleas modidontsellfarm farmersprotest httpstcorat0uxorob\n",
            "Tweet ID: doc_166 - Tweet Text: cutepawu farmersprotest modidontsellfarm right\n",
            "Tweet ID: doc_12148 - Tweet Text: protest right dpstopintimidatingfarm farmersprotest\n",
            "\n",
            "Top 5 ranked tweets for query free speech:\n",
            "Tweet ID: doc_44284 - Tweet Text: shame twitter suppress free speech india farmersprotest\n",
            "Tweet ID: doc_20614 - Tweet Text: free protestor free journalist free women free elder free activist free everyon fake charg arrest murderersrapistspoliticiansmodi farmersprotest railrokoforfarm farmersprotest railroko saveunnaokibeti httpstcoj84zqklad0\n",
            "Tweet ID: doc_16470 - Tweet Text: releasedetainedfarm farmersprotest free ranjit singh free nodeep kaur free shiv kumar free disha free detain farmer journalist activist 🙏 httpstcoevtqkfcz2c\n",
            "Tweet ID: doc_11952 - Tweet Text: allow free speech stop abus protestor farmersprotest dpstopintimidatingfarm httpstcoxrzdqeovci\n",
            "Tweet ID: doc_36958 - Tweet Text: pbnsindia insan modi regul free speech didnt regul hate speech rode get offic regul crimin free speech india isnt democraci anymor joke farmersprotest farmersstandingfirm\n",
            "\n",
            "Top 5 ranked tweets for query climat activist:\n",
            "Tweet ID: doc_36894 - Tweet Text: 21yearold climat activist disharavi come limelight recent day toolkit farmersprotest share intern climat activist gretathunberg\n",
            "Tweet ID: doc_37003 - Tweet Text: 21yearold climat activist disharavi come limelight recent day toolkit farmersprotest share intern climat activist gretathunberg httpstcor2afns7vj4\n",
            "Tweet ID: doc_36845 - Tweet Text: 21yearold climat activist releasedisharavi come limelight recent day toolkit farmersprotest share intern climat activist gretathunberg httpstcohje2lvvopp\n",
            "Tweet ID: doc_37774 - Tweet Text: india afraid climat activist environment activist farmersprotest httpstcocasiirjxej\n",
            "Tweet ID: doc_31568 - Tweet Text: disturb hear arrest indian climat activist indian climat activist disha ravi must show solidar peac protestor india modi govern crack basic democrat right farmersprotest httpstcobyfxkozjkr\n"
          ]
        }
      ]
    },
    {
      "cell_type": "markdown",
      "source": [
        "1.2 *Popularity Score + Cosine Similarity*"
      ],
      "metadata": {
        "id": "okzY8uSI9CzR"
      }
    },
    {
      "cell_type": "code",
      "source": [
        "# First of all, we create a function to compute popularity based on likes and retweets\n",
        "def calculate_popularity_score(tweet_data, max_likes, max_retweets):\n",
        "    like_score = tweet_data[\"likes\"] / max_likes if max_likes > 0 else 0\n",
        "    retweet_score = tweet_data[\"retweets\"] / max_retweets if max_retweets > 0 else 0\n",
        "    popularity_score = (0.5 * like_score) + (0.5 * retweet_score)\n",
        "    return popularity_score\n",
        "\n",
        "# Then, we do a function using a new score that combines popularity metrics with cosine similarity\n",
        "def rank_tweets_new_score(terms, tweet_ids, index, tfidf_scores, tweet_lengths, processed_tweets):\n",
        "    # Maximum values for likes and retweets\n",
        "    max_likes = max(tweet[\"likes\"] for tweet in processed_tweets if tweet[\"doc_id\"] in tweet_ids)\n",
        "    max_retweets = max(tweet[\"retweets\"] for tweet in processed_tweets if tweet[\"doc_id\"] in tweet_ids)\n",
        "\n",
        "    # TF-IDF-based Cosine Similarity\n",
        "    tweet_vectors = defaultdict(lambda: [0] * len(terms))\n",
        "    query_vector = [0] * len(terms)\n",
        "    query_terms_count = collections.Counter(terms)\n",
        "    query_norm = np.linalg.norm(list(query_terms_count.values()))\n",
        "    for term_idx, term in enumerate(terms):\n",
        "        if term in index:\n",
        "            query_vector[term_idx] = (query_terms_count[term] / query_norm) * (math.log(total_tweets / (1 + len(index[term]))))\n",
        "            for tweet_id in index[term]:\n",
        "                if tweet_id in tweet_ids:\n",
        "                    tweet_vectors[tweet_id][term_idx] = tfidf_scores[tweet_id][term]\n",
        "\n",
        "    # Calculate the combined score for each tweet by weighting cosine similarity with popularity\n",
        "    tweet_scores = []\n",
        "    for tweet_id, tweet_vec in tweet_vectors.items():\n",
        "        cosine_similarity = np.dot(tweet_vec, query_vector) / (tweet_lengths[tweet_id] * query_norm)\n",
        "        if cosine_similarity > 0:\n",
        "            tweet_data = next((tweet for tweet in processed_tweets if tweet[\"doc_id\"] == tweet_id), None)\n",
        "            if tweet_data:\n",
        "                popularity_score = calculate_popularity_score(tweet_data, max_likes, max_retweets)\n",
        "                combined_score = cosine_similarity * popularity_score\n",
        "                tweet_scores.append((combined_score, tweet_id))\n",
        "\n",
        "    # Sort tweets by combined score in descending order\n",
        "    tweet_scores.sort(reverse=True, key=lambda x: x[0])\n",
        "    return [tweet_id for _, tweet_id in tweet_scores]\n",
        "\n",
        "\n",
        "# Perform search and ranking for each query based on popularity metrics and cosine similarity\n",
        "for query_terms in queries:\n",
        "    matched_tweets = set()\n",
        "    for term in query_terms:\n",
        "        if term in inverted_index:\n",
        "            matched_tweets.update(inverted_index[term])\n",
        "    ranked_tweet_ids = rank_tweets_new_score(query_terms, matched_tweets, inverted_index, tfidf_scores, tweet_lengths, processed_tweets)\n",
        "\n",
        "    # Display top results\n",
        "    top_n = 5\n",
        "    print(f\"\\nTop {top_n} ranked tweets for query {' '.join(query_terms)}:\")\n",
        "    for tweet_id in ranked_tweet_ids[:top_n]:\n",
        "        tweet_data = next((tweet for tweet in processed_tweets if tweet[\"doc_id\"] == tweet_id), None)\n",
        "        if tweet_data:\n",
        "            tweet_text = ' '.join(tweet_data[\"tweet\"])\n",
        "            print(f\"Tweet ID: {tweet_id} - Tweet Text: {tweet_text}\")"
      ],
      "metadata": {
        "colab": {
          "base_uri": "https://localhost:8080/"
        },
        "id": "Ss4nMS8Y9DbR",
        "outputId": "a7f69a64-d9f4-4ec2-f270-5a08379c8f25"
      },
      "execution_count": null,
      "outputs": [
        {
          "output_type": "stream",
          "name": "stdout",
          "text": [
            "\n",
            "Top 5 ranked tweets for query indian protest:\n",
            "Tweet ID: doc_23286 - Tweet Text: arrest climatechang activist disharavi huge mistak indian polic taken farmersprotest anoth level amp audienc human right activist amp protest must respect freedisharavi\n",
            "Tweet ID: doc_13630 - Tweet Text: keep support peac farmer protest dpstoplntimidatingfarm farmersprotest kisanandolan supportfarm australiasupportingfarm digitalkisan digitalkisanmorcha httpstcod5darstzw9\n",
            "Tweet ID: doc_34869 - Tweet Text: indian non indian friend disha ravi 21 year old activist arrest put togeth toolkit link donat farmersprotest help us show indian govern toler tyranni tweet hashtag releasedisharavi\n",
            "Tweet ID: doc_14687 - Tweet Text: indian farmersprotest largest protest world support farmer ✊✊ mspकिसानकाहक dpstopintimidatingfarm httpstcona5kgotlet\n",
            "Tweet ID: doc_44034 - Tweet Text: guy pleas keep use follow hashtag farmer protest relat post farmersprotest standwithfarm\n",
            "\n",
            "Top 5 ranked tweets for query support farmersprotest:\n",
            "Tweet ID: doc_28154 - Tweet Text: differ remain must continu support farmersprotest\n",
            "Tweet ID: doc_38410 - Tweet Text: disha ravi 21yearold climat activist arrest delhi polic share toolkit gretathunberg post support farmersprotest disha’ arrest alarm world need pay attent freedisharavi httpstcoiygslpnjwz\n",
            "Tweet ID: doc_38012 - Tweet Text: disha ravi broke court room told judg mere edit two line toolkit support farmer wrong nation treat anyon spread awar farmersprotest\n",
            "Tweet ID: doc_28056 - Tweet Text: today 75 organizationsl mujerxsrisingran open letter nytim support farmersprotest call india support core principl democraci thank rais voic solidar critic moment httpstcosyulog2gfn\n",
            "Tweet ID: doc_13630 - Tweet Text: keep support peac farmer protest dpstoplntimidatingfarm farmersprotest kisanandolan supportfarm australiasupportingfarm digitalkisan digitalkisanmorcha httpstcod5darstzw9\n",
            "\n",
            "Top 5 ranked tweets for query people right:\n",
            "Tweet ID: doc_23286 - Tweet Text: arrest climatechang activist disharavi huge mistak indian polic taken farmersprotest anoth level amp audienc human right activist amp protest must respect freedisharavi\n",
            "Tweet ID: doc_26876 - Tweet Text: countless human right org farmer amp activist take full page ad nytim stand solidar farmer protest india farmersprotest httpstcotnijjqymof\n",
            "Tweet ID: doc_8271 - Tweet Text: farmersprotest trend forget week rais awar farmer still die detain without power without water sleep cold still fight right keep talk issu istandwithfarm\n",
            "Tweet ID: doc_44456 - Tweet Text: india need shun authoritarian polit politician use secur forc privat forc commit horrend human right abus farmersprotest\n",
            "Tweet ID: doc_35602 - Tweet Text: justic amp human right isn’t limit one faith peopl it’ beyond sikh hindu muslim christian etc it’ human speak damn freedisharavi farmersprotest\n",
            "\n",
            "Top 5 ranked tweets for query free speech:\n",
            "Tweet ID: doc_27071 - Tweet Text: india target young women silenc dissent amp muzzl free speech 21yo climat activist disharavi arrest tweet benign googl doc farmersprotest bjp minist call “eradication” amp onlin armi joke custodi rape\n",
            "Tweet ID: doc_31702 - Tweet Text: disha ravi 21 yo climat activist arrest delhi polic tweet solidar farmersprotest india crimin dissent free speech amp express pillar democraci call leader demand disha immedi releas freedisharavi\n",
            "Tweet ID: doc_16447 - Tweet Text: hi delhipolic anoth person carri polit speech lal quila tri help catch peopl recent carri polit activ quila farmersprotest httpstcoappk4nzruy\n",
            "Tweet ID: doc_36881 - Tweet Text: dish ravi 21yearold climat justic activist tweet organ toolkit support farmersprotest yet anoth move free speech delhi polic arrest indian govern must releasedisharavi httpstcoxtzt7slfjl\n",
            "Tweet ID: doc_33861 - Tweet Text: disha ravi 21 student amp climat activist nodeep kaur 24 labour amp union activist women target arrest amp imprison peac support farmersprotest suppress driven authoritarian amp free market capit don’t silent\n",
            "\n",
            "Top 5 ranked tweets for query climat activist:\n",
            "Tweet ID: doc_38410 - Tweet Text: disha ravi 21yearold climat activist arrest delhi polic share toolkit gretathunberg post support farmersprotest disha’ arrest alarm world need pay attent freedisharavi httpstcoiygslpnjwz\n",
            "Tweet ID: doc_27071 - Tweet Text: india target young women silenc dissent amp muzzl free speech 21yo climat activist disharavi arrest tweet benign googl doc farmersprotest bjp minist call “eradication” amp onlin armi joke custodi rape\n",
            "Tweet ID: doc_23286 - Tweet Text: arrest climatechang activist disharavi huge mistak indian polic taken farmersprotest anoth level amp audienc human right activist amp protest must respect freedisharavi\n",
            "Tweet ID: doc_12477 - Tweet Text: mighti indian state find 21yr old climat activist frame farmersprotest amp edit social media toolkit show weak paranoid afraid modi govt realiti\n",
            "Tweet ID: doc_33861 - Tweet Text: disha ravi 21 student amp climat activist nodeep kaur 24 labour amp union activist women target arrest amp imprison peac support farmersprotest suppress driven authoritarian amp free market capit don’t silent\n"
          ]
        }
      ]
    },
    {
      "cell_type": "markdown",
      "source": [
        "1.3 *BM25 Ranking*"
      ],
      "metadata": {
        "id": "b_N7a2RM8uSb"
      }
    },
    {
      "cell_type": "code",
      "source": [
        "# BM25 ranking function\n",
        "def rank_tweets_bm25(terms, tweet_ids, index, tweet_lengths, avg_doc_len, k1=1.5, b=0.75):\n",
        "    tweet_scores = defaultdict(float)\n",
        "\n",
        "    # Calculate IDF for each term\n",
        "    idf = {}\n",
        "    total_tweets = len(tweet_ids)\n",
        "\n",
        "    for term in terms:\n",
        "        doc_freq = len(index.get(term, []))\n",
        "        idf[term] = math.log((total_tweets - doc_freq + 0.5) / (doc_freq + 0.5) + 1.0)\n",
        "\n",
        "    # Rank tweets using BM25 formula\n",
        "    for tweet_id in tweet_ids:\n",
        "        tweet_len = tweet_lengths.get(tweet_id, 0)\n",
        "        score = 0.0\n",
        "\n",
        "        for term in terms:\n",
        "            if tweet_id in index.get(term, []):\n",
        "                # Calculate term frequency in the tweet\n",
        "                term_freq = sum(1 for t in index[term] if t == tweet_id)\n",
        "\n",
        "                # BM25 formula component for each term\n",
        "                tf_component = (term_freq * (k1 + 1)) / (term_freq + k1 * (1 - b + b * (tweet_len / avg_doc_len)))\n",
        "                score += idf[term] * tf_component\n",
        "\n",
        "        # Store score for tweet\n",
        "        if score > 0:\n",
        "            tweet_scores[tweet_id] = score\n",
        "\n",
        "    # Sort tweets by score in descending order\n",
        "    ranked_tweet_ids = sorted(tweet_scores.items(), key=lambda x: x[1], reverse=True)\n",
        "\n",
        "    return [tweet_id for tweet_id, score in ranked_tweet_ids]\n",
        "\n",
        "# Perform search and ranking for each query based on BM25 and cosine similarity\n",
        "for query_terms in queries:\n",
        "    matched_tweets = set()\n",
        "    for term in query_terms:\n",
        "        if term in inverted_index:\n",
        "            matched_tweets.update(inverted_index[term])\n",
        "    avg_doc_len = sum(tweet_lengths.values()) / len(tweet_lengths)\n",
        "    ranked_tweet_ids = rank_tweets_bm25(query_terms, matched_tweets, inverted_index, tweet_lengths, avg_doc_len)\n",
        "\n",
        "    # Display top results\n",
        "    top_n = 5\n",
        "    print(f\"\\nTop {top_n} ranked tweets for query {' '.join(query_terms)}:\")\n",
        "    for tweet_id in ranked_tweet_ids[:top_n]:\n",
        "        tweet_data = next((tweet for tweet in processed_tweets if tweet[\"doc_id\"] == tweet_id), None)\n",
        "        if tweet_data:\n",
        "            tweet_text = ' '.join(tweet_data[\"tweet\"])\n",
        "            print(f\"Tweet ID: {tweet_id} - Tweet Text: {tweet_text}\")"
      ],
      "metadata": {
        "colab": {
          "base_uri": "https://localhost:8080/"
        },
        "id": "vgz_L7w38vE8",
        "outputId": "2e852d29-245b-43de-a0eb-3099ee454d9b"
      },
      "execution_count": null,
      "outputs": [
        {
          "output_type": "stream",
          "name": "stdout",
          "text": [
            "\n",
            "Top 5 ranked tweets for query indian protest:\n",
            "Tweet ID: doc_44995 - Tweet Text: pmoindia narendramodi indian farmer r peac protest 3 farm bill amp r blind struggl spread fals narr farmer amp khalsa aid farmer present amp futur india mahapanchayatrevolut farmerscallpmfordeb istandwithkhalsaaid farmersprotest\n",
            "Tweet ID: doc_47236 - Tweet Text: gretathunberg greta problem peopl modi bhagat amp godimedia say farmer protest say khalsatani terrorist farmer indian amp peac protest thank god modibhagat fail plan violenc redfort gretathunberg farmersprotest jaijawanjaikisan\n",
            "Tweet ID: doc_45011 - Tweet Text: rakeshtikaitbku pmoindia narendramodi ahindinew officialbku ptinew ndtvindia kisanmorchaekta bbchindi bbcworld support indian farmer peac protest sinc 145 day delhi border cold wintersrul govt suppress voic farmer firm amp open debat pm mahapanchayatrevolut farmerscallpmfordeb farmersabovereligioush farmersprotest httpstco86tpreoymt\n",
            "Tweet ID: doc_46909 - Tweet Text: thedailyshow thank alot support farmer indian actor actress celebr support modi govern govern threaten impos power pleas support farmer make protest intern protest farmersprotest\n",
            "Tweet ID: doc_39094 - Tweet Text: two armi veteran age 70 amp 80 beaten abus delhi polic can’t imagin horrif pain soul put indian govern isn’t miss singl chanc make protest angri modi want violenc happen farmersprotest httpstcojhhku24mj1\n",
            "\n",
            "Top 5 ranked tweets for query support farmersprotest:\n",
            "Tweet ID: doc_29442 - Tweet Text: support farmer farmersprotest farmersprotest\n",
            "Tweet ID: doc_35315 - Tweet Text: three farm bill like death warrant say farmer anyon come express support solidar farmer somehow accus amp suppress indian govt govt tri silent farmer voic indiabeingsilenc farmersprotest\n",
            "Tweet ID: doc_34627 - Tweet Text: three farm bill like death warrant say farmer anyon come express support solidar farmer somehow accus amp suppress indian govt govt tri silent farmer voic indiabeingsilenc farmersprotest\n",
            "Tweet ID: doc_34312 - Tweet Text: three farm bill like death warrant say farmer anyon come express support solidar farmer somehow accus amp suppress indian govt govt tri silent farmer voic indiabeingsilenc farmersprotest\n",
            "Tweet ID: doc_35242 - Tweet Text: three farm bill like death warrant say farmer anyon come express support solidar farmer accus amp suppress indian govt govt tri silent farmer voic indiabeingsilenc farmersprotest farmer httpstcohr0ajxctyl\n",
            "\n",
            "Top 5 ranked tweets for query people right:\n",
            "Tweet ID: doc_32908 - Tweet Text: india arrest 21 year old climat activist young girl call disha ravi share toolkit regard farmersprotest crime speak injustic advoc human right pleas rais voic freedisharavi\n",
            "Tweet ID: doc_47290 - Tweet Text: pleas support hand feed us mahapanchayatrevolut indian farmersprotest repeal 3 unjust farmer bill undermin farmer right amp increas price food global bbcnewspunjabi unhumanright hrw unocha amnesti malala 40 httpstco2ddixzthap\n",
            "Tweet ID: doc_47764 - Tweet Text: today nodeepkaur birthday dalit amp worker right activist india unjustli imprison sinc jan 12 organ solidar farmersprotest today amp everi day let continu rais voic amp call immedi releas freenodeepkaur\n",
            "Tweet ID: doc_47302 - Tweet Text: pleas support hand feed us mahapanchayatrevolut indian farmersprotest repeal 3 unjust farmer bill undermin farmer right amp increas price food global bbcnewspunjabi unhumanright hrw unocha amnesti malala 32 httpstcohivirs9md1\n",
            "Tweet ID: doc_20570 - Tweet Text: suffer human endur rememb saaka punjab sahib 1922 brave peopl india railroko farmersprotest humanright stay unit stay peac farmer right human right jai kisaan jai jiwan ❤️ may waheguru grant sarbaat da bhalla amp chardi kala 🙏\n",
            "\n",
            "Top 5 ranked tweets for query free speech:\n",
            "Tweet ID: doc_34331 - Tweet Text: dish ravi 21yearold climat justic activist tweet organ toolkit support farmersprotest yet anoth move free speech delhi polic arrest indian govern must releasedisharavi indiabeingsilenc\n",
            "Tweet ID: doc_31702 - Tweet Text: disha ravi 21 yo climat activist arrest delhi polic tweet solidar farmersprotest india crimin dissent free speech amp express pillar democraci call leader demand disha immedi releas freedisharavi\n",
            "Tweet ID: doc_31288 - Tweet Text: disha ravi 21 yo climat activist arrest delhi polic tweet solidar farmersprotest india crimin dissent free speech amp express pillar democraci call leader demand disha immedi releas freedisharavi\n",
            "Tweet ID: doc_36881 - Tweet Text: dish ravi 21yearold climat justic activist tweet organ toolkit support farmersprotest yet anoth move free speech delhi polic arrest indian govern must releasedisharavi httpstcoxtzt7slfjl\n",
            "Tweet ID: doc_36387 - Tweet Text: dish ravi 21yearold climat justic activist tweet organ toolkit support farmersprotest yet anoth move free speech delhi polic arrest indian govern must releasedisharavi httpstcoqoshtgm8ht\n",
            "\n",
            "Top 5 ranked tweets for query climat activist:\n",
            "Tweet ID: doc_32908 - Tweet Text: india arrest 21 year old climat activist young girl call disha ravi share toolkit regard farmersprotest crime speak injustic advoc human right pleas rais voic freedisharavi\n",
            "Tweet ID: doc_36708 - Tweet Text: 21 year old climat activist arrest amp sent polic custodi charg sedit amp crimin conspiraci share document intend help mobil support farmer protest new agricultur law farmersprotest india video httpstcoxw4juzpflp\n",
            "Tweet ID: doc_36524 - Tweet Text: bjp govt must stop abus power stop harass law abid citizen innoc peopl rais voic support justic human right climat farmer nation🚜🇮🇳🚜🇮🇳 farmersprotest शहीदजवानशहीदकिसान justicefordisharavi 21 yr old activist arrest httpstcow1zbdvcsuz\n",
            "Tweet ID: doc_36518 - Tweet Text: bjp govt must stop abus power stop harass law abid citizen innoc peopl rais voic support justic human right climat farmer nation🚜🇮🇳🚜🇮🇳 farmersprotest शहीदजवानशहीदकिसान justicefordisharavi 21 yr old activist arrest httpstcohdfcchbg2z\n",
            "Tweet ID: doc_34510 - Tweet Text: indiabeingsilenc speak india need us help protect democraci citizen need see unjust action taken govt polic protestor climat activist journalist student govt cannot stop jagriti farmer farmersprotest 🇮🇳🚜☮️🚜🇮🇳 u httpstcoj4qlczwrpp\n"
          ]
        }
      ]
    },
    {
      "cell_type": "markdown",
      "source": [
        "## 2. Top-20 Documents"
      ],
      "metadata": {
        "id": "5ugHBVBVLFab"
      }
    },
    {
      "cell_type": "code",
      "source": [
        "# Return a top-20 list of documents for each of the 5 queries, using word2vec + cosine similarity.\n",
        "from sklearn.metrics.pairwise import cosine_similarity\n",
        "tweets = [tweet[\"tweet\"] for tweet in processed_tweets]\n",
        "import numpy as np\n",
        "\n",
        "# Train the Word2Vec model\n",
        "model = Word2Vec(sentences=tweets, vector_size=100, window=5, min_count=1, workers=4)\n",
        "\n",
        "# Function to get the average vector of a tweet\n",
        "def tweet_to_vec(tweet, model):\n",
        "    word_vectors = [model.wv[word] for word in tweet if word in model.wv]\n",
        "    if not word_vectors:\n",
        "        return np.zeros(model.vector_size)\n",
        "    return np.mean(word_vectors, axis=0)\n",
        "\n",
        "# Generate tweet representations\n",
        "tweet_vectors = {tweet_id: tweet_to_vec(tweet, model) for tweet_id, tweet in enumerate(tweets)}\n",
        "\n",
        "# Generate query representations\n",
        "query_vectors = [tweet_to_vec(query, model) for query in queries]\n",
        "\n",
        "# Calculate similarity and get Top-20 for each query\n",
        "top_20_tweets = {}\n",
        "\n",
        "for i, query_vec in enumerate(query_vectors):\n",
        "    similarities = [(tweet_id, cosine_similarity([query_vec], [tweet_vec])[0][0]) for tweet_id, tweet_vec in tweet_vectors.items()]\n",
        "    # Sort tweets by descending similarity and select the Top-20\n",
        "    top_20_tweets[i] = sorted(similarities, key=lambda x: x[1], reverse=True)[:20]\n",
        "\n",
        "    # Display results\n",
        "    print(f\"\\nTop 20 tweets for query {i+1}:\")\n",
        "    for tweet_id, similarity in top_20_tweets[i]:\n",
        "        tweet_text = ' '.join(tweets[tweet_id])  # Rebuild the original text of the tweet\n",
        "        print(f\"Tweet ID: {tweet_id} - Similarity: {similarity:.4f} - Text: {tweet_text}\")"
      ],
      "metadata": {
        "id": "VhXlxynCLVO6",
        "colab": {
          "base_uri": "https://localhost:8080/"
        },
        "outputId": "12a80b76-59bc-43dc-eb4d-6cdf6c76a1a9"
      },
      "execution_count": null,
      "outputs": [
        {
          "output_type": "stream",
          "name": "stdout",
          "text": [
            "\n",
            "Top 20 tweets for query 1:\n",
            "Tweet ID: 34729 - Similarity: 0.9654 - Text: indian farmer protest matter british indian farmersprotest httpstcokycwndvyem\n",
            "Tweet ID: 30746 - Similarity: 0.9549 - Text: stevehank largest crowd ever seen protest except indian farmer protest farmersprotest\n",
            "Tweet ID: 9676 - Similarity: 0.9541 - Text: indian farmer protest farmersprotest httpstco9mzfbgqaxl\n",
            "Tweet ID: 23958 - Similarity: 0.9465 - Text: indian journalist ⁦ranaayyub⁩ spoken ⁦msnbc⁩ host chri hay regard farmersprotest india titl “modi’ “arrog power” indian farmers’ protest rana ayyub httpstco1film2cmf7\n",
            "Tweet ID: 30422 - Similarity: 0.9453 - Text: indian farmer protest govern farmersprotest httpstcoemugoxtabz\n",
            "Tweet ID: 40582 - Similarity: 0.9439 - Text: veteran indian armi thrown jail peac protest total disrespect indian author farmersprotest httpstcoomaver86xw\n",
            "Tweet ID: 33299 - Similarity: 0.9435 - Text: indian farmer protest matter british indian bbc news farmersprotest farmersprotest httpstcoruuhvrx8pg\n",
            "Tweet ID: 39111 - Similarity: 0.9428 - Text: indian farmer right peaceful protest farmersprotest\n",
            "Tweet ID: 7050 - Similarity: 0.9401 - Text: protest indian farmer vow amass support outsid capit delhi farmersprotest farmerstrik india httpstcowzhfo6nqwd\n",
            "Tweet ID: 40320 - Similarity: 0.9398 - Text: rihanna india evil govern call protest andolanjivi say everi protest profession protest farmersprotest\n",
            "Tweet ID: 10661 - Similarity: 0.9393 - Text: farmerssuicid farmersprotest third way say protest protest protest httpstcoajujorl9lr\n",
            "Tweet ID: 20071 - Similarity: 0.9378 - Text: current farmersprotest india largest protest sinc indian independ madhurafa current lectur agrarian challeng india httpstco2urdvcf22q\n",
            "Tweet ID: 14153 - Similarity: 0.9363 - Text: tealeoni thank 🙏 indian govern everyth illeg stop protest protest desper need water allow polic militari protest dehydr farmersprotest httpstcooucoaftqi6\n",
            "Tweet ID: 42955 - Similarity: 0.9329 - Text: coward modi attack peac protest farmer china occupi indian territori cowardbjp farmersprotest httpstco9zpzojxeut\n",
            "Tweet ID: 46574 - Similarity: 0.9322 - Text: cristiano cristiano plz support farmer protest go india delhi farm law indian media cover protest r spread neg protest farmersprotest httpstcotm6tj9pw4i\n",
            "Tweet ID: 45537 - Similarity: 0.9319 - Text: countri call protest govt will meet demand protest meanwhil indian media busi portray protest khalistani terrorist farmersprotest farmersrprotest humanright humanrightsviol human farmersprotest httpstcoorllz4jg82\n",
            "Tweet ID: 9140 - Similarity: 0.9316 - Text: protest indian farmer vow amass support outsid capit delhi farmersprotest httpstcouj1erwgp3u\n",
            "Tweet ID: 40148 - Similarity: 0.9312 - Text: farmer protest previous unsur demand got clariti protest ac air cooler protest site farmersprotest\n",
            "Tweet ID: 8464 - Similarity: 0.9310 - Text: 115325 signatori farmer protest petit ‘furious’ uk respons time india httpstcolbvglsavfv farmersprotest parliamentarybusi\n",
            "Tweet ID: 8752 - Similarity: 0.9298 - Text: farmersprotest protest indian farmer vow amass support outsid capit delhi articl amp reuter httpstcolxk5mgds8a\n",
            "\n",
            "Top 20 tweets for query 2:\n",
            "Tweet ID: 1360 - Similarity: 1.0000 - Text: support farmersprotest\n",
            "Tweet ID: 4988 - Similarity: 1.0000 - Text: support farmersprotest\n",
            "Tweet ID: 8089 - Similarity: 1.0000 - Text: support farmersprotest\n",
            "Tweet ID: 11390 - Similarity: 1.0000 - Text: support farmersprotest\n",
            "Tweet ID: 11720 - Similarity: 1.0000 - Text: support farmersprotest\n",
            "Tweet ID: 14864 - Similarity: 1.0000 - Text: support farmersprotest\n",
            "Tweet ID: 15965 - Similarity: 1.0000 - Text: farmersprotest support\n",
            "Tweet ID: 18529 - Similarity: 1.0000 - Text: support farmersprotest\n",
            "Tweet ID: 22149 - Similarity: 1.0000 - Text: support farmersprotest\n",
            "Tweet ID: 26647 - Similarity: 1.0000 - Text: support farmersprotest\n",
            "Tweet ID: 30903 - Similarity: 1.0000 - Text: support farmersprotest\n",
            "Tweet ID: 36108 - Similarity: 1.0000 - Text: support farmersprotest\n",
            "Tweet ID: 39708 - Similarity: 1.0000 - Text: support farmersprotest\n",
            "Tweet ID: 43898 - Similarity: 1.0000 - Text: support farmersprotest\n",
            "Tweet ID: 29174 - Similarity: 1.0000 - Text: support farmersprotest httpstcoom3fjdrnpq\n",
            "Tweet ID: 14870 - Similarity: 1.0000 - Text: support farmersprotest httpstcovc3zl6ak3d\n",
            "Tweet ID: 11236 - Similarity: 1.0000 - Text: support farmersprotest httpstcobbgjmxn15m\n",
            "Tweet ID: 31656 - Similarity: 1.0000 - Text: wizkhalifa support farmersprotest\n",
            "Tweet ID: 41879 - Similarity: 1.0000 - Text: support farmersprotest httpstcopa7a9wxblv\n",
            "Tweet ID: 12146 - Similarity: 1.0000 - Text: support farmersprotest httpstco2xjy6tfowj\n",
            "\n",
            "Top 20 tweets for query 3:\n",
            "Tweet ID: 41774 - Similarity: 0.9384 - Text: right inform right life farmersprotest\n",
            "Tweet ID: 25029 - Similarity: 0.9327 - Text: savekisaan ye narr farmersprotest farmer right human right\n",
            "Tweet ID: 29293 - Similarity: 0.9310 - Text: bkuektaugrahan human right protect human right remembersirchhoturaminmodiera farmersprotest\n",
            "Tweet ID: 30836 - Similarity: 0.9294 - Text: hrsouthasia blood hand investig human right violat human right group rememberchhoturaminmodiera farmersprotest\n",
            "Tweet ID: 375 - Similarity: 0.9267 - Text: basic right farmersprotest httpstcouwzqrnbxnd\n",
            "Tweet ID: 11570 - Similarity: 0.9252 - Text: fight basic right fight basic right farmersprotest httpstco8a5o5svm3v\n",
            "Tweet ID: 1578 - Similarity: 0.9249 - Text: countri doesn’t recogn minor right human right includ women’ right kind stabil prosper possibl hillari clinton farmersprotest freedeepsidhu freenodeepkaur\n",
            "Tweet ID: 15403 - Similarity: 0.9249 - Text: countri doesn’t recogn minor right human right includ women’ right kind stabil prosper possibl hillari clinton farmersprotest freedeepsidhu freenodeepkaur\n",
            "Tweet ID: 20971 - Similarity: 0.9185 - Text: may god merci human 🙏❤️🙏 humanright farmer right human right farmersprotest httpstco9ekiupbl68\n",
            "Tweet ID: 39476 - Similarity: 0.9169 - Text: amnestynigeria one deni peac protest human right assimil fundament right constitut farmersprotest endsar\n",
            "Tweet ID: 14055 - Similarity: 0.9150 - Text: full right put thought democraci one snatch right farmersprotest\n",
            "Tweet ID: 22069 - Similarity: 0.9129 - Text: hope repercuss human right abus toward farmersprotest httpstcohiwm0lrqlq\n",
            "Tweet ID: 24957 - Similarity: 0.9125 - Text: farmersprotest standwithfarm farmer right human right httpstcopie2xgzmko\n",
            "Tweet ID: 12616 - Similarity: 0.9125 - Text: get comfort violat human right liter remors whatsoev disgust farmersprotest httpstcoq0fxkqysz7\n",
            "Tweet ID: 18695 - Similarity: 0.9125 - Text: farmer right human right farmersprotest standwithfarm httpstcod4in8yr6ix\n",
            "Tweet ID: 17777 - Similarity: 0.9124 - Text: farmer right human right farmersprotest standwithfarm httpstcolyhywz908h\n",
            "Tweet ID: 18107 - Similarity: 0.9124 - Text: farmer right human right farmersprotest standwithfarm httpstcokbjrxgqhjd\n",
            "Tweet ID: 35301 - Similarity: 0.9121 - Text: indian farmer human right right livelihood matter concern human indiabeingsilenc farmersprotest httpstcoifwjtc2hc\n",
            "Tweet ID: 27013 - Similarity: 0.9090 - Text: anybodi push “intern matter” narr cover human right abus definit drink koolaid human right violat issu decent human be bhakt need appli farmersprotest\n",
            "Tweet ID: 39449 - Similarity: 0.9061 - Text: rihanna protest peac human right subsum fundament right democraci endsar farmersprotest\n",
            "\n",
            "Top 20 tweets for query 4:\n",
            "Tweet ID: 28970 - Similarity: 0.9456 - Text: attempt crimin dissent free speech amp express attack democraci speakup 🗣 tyranni farmersprotest\n",
            "Tweet ID: 29958 - Similarity: 0.9404 - Text: attack free speech attack humanright everyon right freedom opinion express without interfer freespeech farmersprotest\n",
            "Tweet ID: 35606 - Similarity: 0.9351 - Text: freedom speech guarante freedom speech confirm freedisharavi amp farmer farmersprotest httpstcoi5bkeytu4l httpstco0hinphqqri\n",
            "Tweet ID: 13142 - Similarity: 0.9286 - Text: freedom speech express complet shut india farmersprotest httpstcozitjbog8e3\n",
            "Tweet ID: 36958 - Similarity: 0.9275 - Text: pbnsindia insan modi regul free speech didnt regul hate speech rode get offic regul crimin free speech india isnt democraci anymor joke farmersprotest farmersstandingfirm\n",
            "Tweet ID: 2234 - Similarity: 0.9256 - Text: humanfirst farmersprotest disharavi —gt right freedom speech express includ right seek global opinion right dissent firmli enshrin articl 19 constitut india consid opinion freedom speech 13 httpstconkgitmr7k\n",
            "Tweet ID: 30386 - Similarity: 0.9229 - Text: freedom speech suppress isnt dictatorship farmersprotest\n",
            "Tweet ID: 147 - Similarity: 0.9173 - Text: victori freedom speech express fundament right everi citizen india firmli enshrin articl 19 constitut hat disha ravi courag go ordeal farmersprotest httpstcoesi8zu4jop\n",
            "Tweet ID: 23376 - Similarity: 0.9159 - Text: even pakistan gud stand freedom speech unlik india farmersprotest httpstcosjbps3yeki\n",
            "Tweet ID: 39975 - Similarity: 0.9158 - Text: grandpar humili physic mental abus armi veteran serv countri oppress farmersprotest httpstcoq4yytwuyxn\n",
            "Tweet ID: 36116 - Similarity: 0.9142 - Text: freedom speech india farmersprotest httpstco2ovzfya6hz\n",
            "Tweet ID: 34711 - Similarity: 0.9136 - Text: appal 21 yr old arrest speak mind mind saidshar found anywher onlin happen freedom speech freedisharavi farmersprotest httpstcooxt7fgihp\n",
            "Tweet ID: 31059 - Similarity: 0.9129 - Text: freedom speech necess farmersprotest httpstcooe05g1sre8\n",
            "Tweet ID: 2302 - Similarity: 0.9125 - Text: right dissent firmli enshrin articl 19 constitut consid opinion freedom speech express includ right seek global audienc disharavibail farmersprotest\n",
            "Tweet ID: 2253 - Similarity: 0.9094 - Text: right dissent firmli enshrin articl 19 constitut india consid opinion freedom speech express includ right seek global audienc farmersprotest disharavi disharavibail volunteer4farmr\n",
            "Tweet ID: 43336 - Similarity: 0.9094 - Text: freedom speech guarante freedom speech repealonlywayahead farmersprotest httpstcodc78olsubd\n",
            "Tweet ID: 1981 - Similarity: 0.9071 - Text: even found father accord due respect diverg opinion recognis freedom speech express inviol fundament right right dissent firmli enshrin articl 19 constitut india farmersprotest\n",
            "Tweet ID: 11952 - Similarity: 0.9064 - Text: allow free speech stop abus protestor farmersprotest dpstopintimidatingfarm httpstcoxrzdqeovci\n",
            "Tweet ID: 1611 - Similarity: 0.9060 - Text: free express base human right root human natur mother truth kill free speech insult human right stifl human natur suppress truth liu xiaobo farmersprotest freedeepsidhu freenodeepkaur\n",
            "Tweet ID: 15479 - Similarity: 0.9060 - Text: free express base human right root human natur mother truth kill free speech insult human right stifl human natur suppress truth liu xiaobo farmersprotest freedeepsidhu freenodeepkaur\n",
            "\n",
            "Top 20 tweets for query 5:\n",
            "Tweet ID: 7817 - Similarity: 0.9663 - Text: freenodeepkaur freedisharavi arrest connect farmersprotest nodeep kaur 24 year old labor womens’ right activist arrest 011221 disha ravi 21 year old environment activist arrest 021421 releasedetainedfarm\n",
            "Tweet ID: 37774 - Similarity: 0.9659 - Text: india afraid climat activist environment activist farmersprotest httpstcocasiirjxej\n",
            "Tweet ID: 32990 - Similarity: 0.9654 - Text: activist jail terrorist bail shashi tharoor disha ravi arrest httpstcovwfta8dxt6 farmersprotest\n",
            "Tweet ID: 38783 - Similarity: 0.9628 - Text: condemn arrest 21 year old disha ravi climat activist charg sedit sinist move indian state delegitimis support intern climat activist gretathunberg disha share farmersprotest toolkit prepar thunberg httpstcof6bx6ckkaw\n",
            "Tweet ID: 19990 - Similarity: 0.9627 - Text: activist opposit politician demand immedi releas 22yearold climat activist disharavi arrest edit farmersprotest document httpstcoaergzuo2hn\n",
            "Tweet ID: 37046 - Similarity: 0.9619 - Text: friday futur 21 year old climat activist disharavi arrest farmersprotest httpstcoofjjagldli httpstcophzsge5oji\n",
            "Tweet ID: 37424 - Similarity: 0.9617 - Text: 21 year old climat activist jail 21 year 21 mtlb kyaaa farmersprotest freenodeepkaur\n",
            "Tweet ID: 31839 - Similarity: 0.9597 - Text: disha ravi jail indian activist link greta thunberg farmersprotest indianinjustic httpstcosvmlfn8c2w\n",
            "Tweet ID: 27579 - Similarity: 0.9593 - Text: releas journalist activist farmersprotest httpstcokkukbbt5o9\n",
            "Tweet ID: 33571 - Similarity: 0.9584 - Text: arrest young fridaysforfutur activist disha ravi india associ farmersprotest stir outrag fridays4futur httpstcopcqwhpbilv\n",
            "Tweet ID: 31751 - Similarity: 0.9566 - Text: drop fabric charg student outfit demand immedi releas climat activist disha ravi disharavi farmersprotest sio aisa httpstcomjcw3sjizc\n",
            "Tweet ID: 27729 - Similarity: 0.9555 - Text: disappoint hciottawa indiaintoronto 21 year old climat activist climatedisha disharavispeak arrest protest disharavi freedisharavi farmersprotest cdnpoli topoli\n",
            "Tweet ID: 35393 - Similarity: 0.9548 - Text: climat activist disha ravi arrest tweet indiabeingsilenc farmersprotest httpstcoelfufuzrqu\n",
            "Tweet ID: 24038 - Similarity: 0.9544 - Text: nodeep kaur jail activist meena harri tweet ⁦bbcnews⁩ farmersprotest httpstcomyrwsxqvr7\n",
            "Tweet ID: 32139 - Similarity: 0.9538 - Text: speak illeg arrest 21 year old climat activist disha ravi amp 23 year old dalit right activist nodeep kaur support farmersprotest resist india becom polic state releasedisharavi freenodeepkaur httpstcoxms9lrbxon\n",
            "Tweet ID: 27594 - Similarity: 0.9535 - Text: free journalist activist farmersprotest httpstcoh6bdla1mqx\n",
            "Tweet ID: 34285 - Similarity: 0.9529 - Text: purepunjaban hey busi celebr valentin goi arrest 21 yr old climat activist disha ravi support farmer farmersprotest\n",
            "Tweet ID: 33033 - Similarity: 0.9523 - Text: oppos govern arrest 21 year old climat activist disharavi disharaviarrest farmersprotest\n",
            "Tweet ID: 2450 - Similarity: 0.9522 - Text: 23yr old indian climat activist disha ravi releas bail follow arrest share toolkit help farmersprotest httpstcoi2aqrdbjfb\n",
            "Tweet ID: 23252 - Similarity: 0.9516 - Text: 22yearold climat activist disha ravi arrest share document support india farmersprotest httpstcoa65ps0epof\n"
          ]
        }
      ]
    }
  ],
  "metadata": {
    "colab": {
      "provenance": []
    },
    "kernelspec": {
      "display_name": "Python 3",
      "name": "python3"
    },
    "language_info": {
      "name": "python"
    }
  },
  "nbformat": 4,
  "nbformat_minor": 0
}